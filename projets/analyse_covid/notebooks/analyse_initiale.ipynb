{
 "cells": [
  {
   "cell_type": "markdown",
   "metadata": {},
   "source": [
    "# Analyse Initiale des Données COVID-19\n",
    "\n",
    "Ce notebook présente l'analyse exploratoire des données COVID-19."
   ]
  },
  {
   "cell_type": "code",
   "execution_count": null,
   "metadata": {},
   "source": [
    "import pandas as pd\n",
    "import numpy as np\n",
    "import matplotlib.pyplot as plt\n",
    "import seaborn as sns\n",
    "\n",
    "# Configuration visualisations\n",
    "plt.style.use('seaborn')\n",
    "sns.set_theme(style='whitegrid')"
   ]
  }
 ]
}