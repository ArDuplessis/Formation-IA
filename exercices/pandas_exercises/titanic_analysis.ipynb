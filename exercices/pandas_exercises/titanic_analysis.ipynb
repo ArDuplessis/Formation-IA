{
 "cells": [
  {
   "cell_type": "markdown",
   "metadata": {},
   "source": [
    "# Analyse du Dataset Titanic\n",
    "\n",
    "Ce notebook présente une analyse détaillée du célèbre dataset Titanic."
   ]
  },
  {
   "cell_type": "code",
   "execution_count": null,
   "metadata": {},
   "source": [
    "import pandas as pd\n",
    "import numpy as np\n",
    "import matplotlib.pyplot as plt\n",
    "import seaborn as sns\n",
    "\n",
    "# Configuration des visualisations\n",
    "plt.style.use('seaborn')\n",
    "sns.set_palette('deep')\n",
    "pd.set_option('display.max_columns', None)"
   ]
  },
  {
   "cell_type": "markdown",
   "metadata": {},
   "source": [
    "## 1. Chargement des données\n",
    "\n",
    "Commençons par charger le dataset Titanic."
   ]
  },
  {
   "cell_type": "code",
   "execution_count": null,
   "metadata": {},
   "source": [
    "# Le dataset sera téléchargé depuis Kaggle\n",
    "df = pd.read_csv('titanic.csv')\n",
    "df.head()"
   ]
  }
 ]
}