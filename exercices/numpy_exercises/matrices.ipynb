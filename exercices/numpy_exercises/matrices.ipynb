{
 "cells": [
  {
   "cell_type": "markdown",
   "metadata": {},
   "source": [
    "# Exercices NumPy - Manipulation de Matrices\n",
    "\n",
    "Ce notebook contient des exercices pratiques sur NumPy."
   ]
  },
  {
   "cell_type": "code",
   "execution_count": null,
   "metadata": {},
   "source": [
    "import numpy as np"
   ]
  },
  {
   "cell_type": "markdown",
   "metadata": {},
   "source": [
    "## Exercice 1: Création de matrices\n",
    "\n",
    "Créez les matrices suivantes :\n",
    "1. Une matrice 3x3 remplie de zéros\n",
    "2. Une matrice identité 4x4\n",
    "3. Une matrice 2x4 remplie de nombres aléatoires"
   ]
  },
  {
   "cell_type": "code",
   "execution_count": null,
   "metadata": {},
   "source": [
    "# Votre code ici"
   ]
  }
 ]
}